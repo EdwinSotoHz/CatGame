{
 "cells": [
  {
   "cell_type": "markdown",
   "id": "563bb41b-e8e9-468f-a829-ae8bfaf85c7d",
   "metadata": {},
   "source": [
    "## Clase `Player`\n",
    "Esta clase representa a un jugador en el juego.\n",
    "#### **Atributos:**  \n",
    "- **`str symbol:`** El símbolo del jugador ('X' o 'O').\n",
    "___\n",
    "\n",
    "\n",
    "\n",
    "## Clase `Board`\n",
    "Esta clase gestiona el estado del tablero y verifica las condiciones de victoria.\n",
    "#### **Atributos:**  \n",
    "- **`list[list[str]] board:`** Matriz 3x3 que representa el tablero del juego. Cada celda puede contener un símbolo del jugador o un espacio vacío.\n",
    "- **`Player current_player:`** El jugador cuyo turno es actualmente.\n",
    "#### **Metodos:**  \n",
    "- **`void place_symbol(x: int, y: int):`** Coloca el símbolo del jugador en la posición especificada del tablero y muestra el tablero actualizado en la consola.\n",
    "- **`bool check_winner():`** Verifica si el jugador actual ha ganado el juego comprobando filas, columnas y diagonales.\n",
    "- **`bool is_board_full():`** Verifica si el tablero está lleno (sin espacios vacíos).\n",
    "___\n",
    "\n",
    "\n",
    "\n",
    "## Clase `ButtonManager`\n",
    "Esta clase gestiona las acciones relacionadas con los botones en la interfaz gráfica.\n",
    "#### **Metodos:**  \n",
    "- **`void update_button(button: tk.Button, symbol: str):`** Actualiza el texto del botón con el símbolo especificado.\n",
    "- **`void disable_button(button: tk.Button):`** Desactiva el botón, haciéndolo no clickeable.\n",
    "- **`void enable_button(button: tk.Button):`** Activa el botón, haciéndolo clickeable.\n",
    "___\n",
    "\n",
    "\n",
    "\n",
    "## Clase `Main`(herenda de `ButtonManager`)\n",
    "Esta clase coordina el flujo del juego, gestiona la interfaz gráfica y utiliza las funcionalidades de `ButtonManager`.\n",
    "#### **Atributos:**  \n",
    "- **`Player player1:`** Instancia del primer jugador.\n",
    "- **`Player player2:`** Instancia del segundo jugador.\n",
    "- **`Board board:`** Instancia del tablero de juego.\n",
    "- **`dict buttons:`** Diccionario que contiene los botones del tablero, mapeados por sus posiciones.\n",
    "- **`tk.Label label:`** Etiqueta que muestra el estado del juego (ganador o empate).\n",
    "- **`tk.Button buttonReset:`** Botón para reiniciar el juego.\n",
    "#### **Metodos:**  \n",
    "- **`void update_board(button: tk.Button, x: int, y: int):`** Actualiza el tablero y los botones tras una jugada. También verifica el estado del juego (victoria o empate) y actualiza la etiqueta y el botón de reinicio en consecuencia.\n",
    "- **`void reset():`** Reinicia el juego, restableciendo el tablero y habilitando todos los botones.\n",
    "- **`void play():`** Configura y muestra la interfaz gráfica del juego, e inicia n del funcionamiento del programa.del código de manera rápida y clara.\n",
    "___"
   ]
  },
  {
   "cell_type": "markdown",
   "id": "27448141-3bf6-417d-9df5-3e3a839cc6ae",
   "metadata": {},
   "source": [
    "<img src=\"Diagrama.png\"></img>"
   ]
  }
 ],
 "metadata": {
  "kernelspec": {
   "display_name": "Python 3 (ipykernel)",
   "language": "python",
   "name": "python3"
  },
  "language_info": {
   "codemirror_mode": {
    "name": "ipython",
    "version": 3
   },
   "file_extension": ".py",
   "mimetype": "text/x-python",
   "name": "python",
   "nbconvert_exporter": "python",
   "pygments_lexer": "ipython3",
   "version": "3.12.3"
  }
 },
 "nbformat": 4,
 "nbformat_minor": 5
}
